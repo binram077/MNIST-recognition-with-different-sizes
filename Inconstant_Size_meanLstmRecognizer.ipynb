{
  "nbformat": 4,
  "nbformat_minor": 0,
  "metadata": {
    "colab": {
      "name": "Inconstant_Size_meanLstmRecognizer.ipynb",
      "provenance": []
    },
    "kernelspec": {
      "name": "python3",
      "display_name": "Python 3"
    },
    "language_info": {
      "name": "python"
    }
  },
  "cells": [
    {
      "cell_type": "code",
      "metadata": {
        "id": "axRppyDJOuww"
      },
      "source": [
        "import tensorflow as tf\n",
        "import keras\n",
        "from tensorflow.keras import layers\n",
        "from tensorflow.keras.datasets import mnist\n",
        "import numpy as np\n",
        "import matplotlib.pyplot as plt"
      ],
      "execution_count": null,
      "outputs": []
    },
    {
      "cell_type": "code",
      "metadata": {
        "id": "it0otNAkMhOX"
      },
      "source": [
        "def mean_dis_of_risinig(arr):\n",
        "  sum = 0.0\n",
        "  lst_seen = 0\n",
        "  for idx in range(1,len(arr)):\n",
        "    if arr[idx]>arr[idx-1]:\n",
        "      sum += idx - lst_seen\n",
        "      lst_seen = idx\n",
        "  return sum/len(arr)\n",
        "\n",
        "def time_stability(arr):\n",
        "  sum = 0.0\n",
        "  up_down = 1\n",
        "  for idx in range(1,len(arr)):\n",
        "    if up_down * arr[idx] > up_down * arr[idx-1]:\n",
        "      sum += 1\n",
        "      up_down *= -1\n",
        "    up_down *= -1\n",
        "  return sum/len(arr)\n",
        "\n",
        "def mean_squared(arr):\n",
        "  return np.mean(np.square(arr))"
      ],
      "execution_count": null,
      "outputs": []
    },
    {
      "cell_type": "code",
      "metadata": {
        "id": "XYuMGpQ6RWHb",
        "colab": {
          "base_uri": "https://localhost:8080/"
        },
        "outputId": "c1f8b09c-a191-4ee0-da09-7e2140d4d3ac"
      },
      "source": [
        "from skimage.transform import resize\n",
        "import random\n",
        "\n",
        "(initial_x_train,y_train),(initial_x_test,y_test) = mnist.load_data()\n",
        "\n",
        "y_train = y_train[:10000]\n",
        "\n",
        "x_train = []\n",
        "for init_x in (initial_x_train[:10000])/255.0:\n",
        "  rnd_height, rnd_width = random.randint(15, 34),random.randint(15, 34)  \n",
        "  init_x = resize(init_x, (rnd_height, rnd_width),\n",
        "                       anti_aliasing=True)\n",
        "  init_x_t = init_x.T\n",
        "  x = []\n",
        "  for idx,row in enumerate(init_x):\n",
        "    x.append([np.mean(row),mean_dis_of_risinig(row),time_stability(row),mean_squared(row),np.square(np.mean(row))])\n",
        "  x.append([0,-1,0,-1,0])\n",
        "  x.append([-1,0,-1,0,-1])\n",
        "  for idx,col in enumerate(init_x_t):\n",
        "    x.append([np.mean(col),mean_dis_of_risinig(col),time_stability(col),mean_squared(col),np.square(np.mean(col))])\n",
        "  if np.array(x).shape[-1] != 5:\n",
        "    print(np.array(x).shape[-1])\n",
        "  x_train.append(np.array(x))\n",
        "\n",
        "init_xs_tests = []\n",
        "x_test = []\n",
        "for init_x in (initial_x_test)/255.0:\n",
        "  init_x_t = init_x.T\n",
        "  rnd_height, rnd_width = random.randint(15, 34),random.randint(15, 34)\n",
        "  init_x_test = resize(init_x, (rnd_height, rnd_width),\n",
        "                       anti_aliasing=True)\n",
        "  init_xs_tests.append(init_x_test)\n",
        "  x = []\n",
        "  for idx,row in enumerate(init_x):\n",
        "    x.append([np.mean(row),mean_dis_of_risinig(row),time_stability(row),mean_squared(row),np.square(np.mean(row))])\n",
        "  x.append([0,-1,0,-1,0])\n",
        "  x.append([-1,0,-1,0,-1])\n",
        "  for idx,col in enumerate(init_x_t):\n",
        "    x.append([np.mean(col),mean_dis_of_risinig(col),time_stability(col),mean_squared(col),np.square(np.mean(col))])\n",
        "  x_test.append(np.array(x))\n",
        "\n",
        "init_xs_tests = np.array(init_xs_tests)"
      ],
      "execution_count": null,
      "outputs": [
        {
          "output_type": "stream",
          "text": [
            "/usr/local/lib/python3.7/dist-packages/ipykernel_launcher.py:42: VisibleDeprecationWarning: Creating an ndarray from ragged nested sequences (which is a list-or-tuple of lists-or-tuples-or ndarrays with different lengths or shapes) is deprecated. If you meant to do this, you must specify 'dtype=object' when creating the ndarray\n"
          ],
          "name": "stderr"
        }
      ]
    },
    {
      "cell_type": "code",
      "metadata": {
        "id": "uygWtDbFCHsD"
      },
      "source": [
        "x_test = []\n",
        "for init_x in (initial_x_test)/255.0:\n",
        "  init_x_t = init_x.T\n",
        "  x = []\n",
        "  for idx,row in enumerate(init_x):\n",
        "    x.append([np.mean(row),mean_dis_of_risinig(row),time_stability(row),mean_squared(row),np.square(np.mean(row))])\n",
        "  x.append([0,-1,0,-1,0])\n",
        "  x.append([-1,0,-1,0,-1])\n",
        "  for idx,col in enumerate(init_x_t):\n",
        "    x.append([np.mean(col),mean_dis_of_risinig(col),time_stability(col),mean_squared(col),np.square(np.mean(col))])\n",
        "  x_test.append(np.array(x))"
      ],
      "execution_count": null,
      "outputs": []
    },
    {
      "cell_type": "code",
      "metadata": {
        "colab": {
          "base_uri": "https://localhost:8080/"
        },
        "id": "OL6w-iIdUkMu",
        "outputId": "86486122-3002-4385-9ce8-b1f9d0d53c5c"
      },
      "source": [
        "x_train = np.array(x_train)\n",
        "x_test1 = np.array(x_test)\n",
        "\n",
        "print(x_train1.shape)\n",
        "print(x_test1.shape)"
      ],
      "execution_count": null,
      "outputs": [
        {
          "output_type": "stream",
          "text": [
            "(10000,)\n",
            "(10000, 56, 5)\n"
          ],
          "name": "stdout"
        },
        {
          "output_type": "stream",
          "text": [
            "/usr/local/lib/python3.7/dist-packages/ipykernel_launcher.py:1: VisibleDeprecationWarning: Creating an ndarray from ragged nested sequences (which is a list-or-tuple of lists-or-tuples-or ndarrays with different lengths or shapes) is deprecated. If you meant to do this, you must specify 'dtype=object' when creating the ndarray\n",
            "  \"\"\"Entry point for launching an IPython kernel.\n"
          ],
          "name": "stderr"
        }
      ]
    },
    {
      "cell_type": "code",
      "metadata": {
        "colab": {
          "base_uri": "https://localhost:8080/"
        },
        "id": "BMjpUhdAWow3",
        "outputId": "9a5a6f55-f35d-44f5-d039-6dc8335f3ea6"
      },
      "source": [
        "model = keras.Sequential(name=\"lstm_mean_recognizer\")\n",
        "model.add(keras.Input(shape=[None,5]))\n",
        "model.add(keras.layers.Dense(15,activation='sigmoid'))\n",
        "model.add(keras.layers.Bidirectional(keras.layers.LSTM(40,return_sequences=True)))\n",
        "model.add(keras.layers.Dropout(0.05))\n",
        "model.add(keras.layers.Bidirectional(keras.layers.GRU(20,return_sequences=False,activation=None)))\n",
        "model.add(layers.LeakyReLU())\n",
        "model.add(keras.layers.Dense(10))\n",
        "\n",
        "print(model.summary())"
      ],
      "execution_count": null,
      "outputs": [
        {
          "output_type": "stream",
          "text": [
            "Model: \"lstm_mean_recognizer\"\n",
            "_________________________________________________________________\n",
            "Layer (type)                 Output Shape              Param #   \n",
            "=================================================================\n",
            "dense_8 (Dense)              (None, None, 15)          90        \n",
            "_________________________________________________________________\n",
            "bidirectional_8 (Bidirection (None, None, 80)          17920     \n",
            "_________________________________________________________________\n",
            "dropout_4 (Dropout)          (None, None, 80)          0         \n",
            "_________________________________________________________________\n",
            "bidirectional_9 (Bidirection (None, 40)                12240     \n",
            "_________________________________________________________________\n",
            "leaky_re_lu_4 (LeakyReLU)    (None, 40)                0         \n",
            "_________________________________________________________________\n",
            "dense_9 (Dense)              (None, 10)                410       \n",
            "=================================================================\n",
            "Total params: 30,660\n",
            "Trainable params: 30,660\n",
            "Non-trainable params: 0\n",
            "_________________________________________________________________\n",
            "None\n"
          ],
          "name": "stdout"
        }
      ]
    },
    {
      "cell_type": "code",
      "metadata": {
        "colab": {
          "base_uri": "https://localhost:8080/",
          "height": 281
        },
        "id": "ZTfxQNcjI4-y",
        "outputId": "bd2b2263-2451-4eab-82be-42d8cd6522cc"
      },
      "source": [
        "print(x_train[1].shape)\n",
        "plt.imshow(initial_x_train[0])\n",
        "plt.show()"
      ],
      "execution_count": null,
      "outputs": [
        {
          "output_type": "stream",
          "text": [
            "(38, 5)\n"
          ],
          "name": "stdout"
        },
        {
          "output_type": "display_data",
          "data": {
            "image/png": "[encoded data removed]",
            "text/plain": [
              "<Figure size 432x288 with 1 Axes>"
            ]
          },
          "metadata": {
            "tags": [],
            "needs_background": "light"
          }
        }
      ]
    },
    {
      "cell_type": "code",
      "metadata": {
        "id": "rkqLyi6HYU6N"
      },
      "source": [
        "model.compile(loss=keras.losses.SparseCategoricalCrossentropy(from_logits=True),optimizer=keras.optimizers.Adam(learning_rate=0.003),metrics=[\"accuracy\"])"
      ],
      "execution_count": null,
      "outputs": []
    },
    {
      "cell_type": "code",
      "metadata": {
        "colab": {
          "base_uri": "https://localhost:8080/"
        },
        "id": "tJMt_nUuZN9X",
        "outputId": "ae682f8a-ff3c-42e0-c808-7e8dd7c6e2ae"
      },
      "source": [
        "print(x_train.shape)\n",
        "x_train_padded = keras.preprocessing.sequence.pad_sequences(x_train,maxlen=64,padding=\"post\",truncating=\"post\",value=-1.0,dtype = 'float32')\n",
        "\n",
        "print(x_train_padded[0].shape)\n",
        "print(x_train[0].shape)\n",
        "\n",
        "model.fit(x=x_train_padded,y=y_train,batch_size = 32,verbose=2,epochs=10)"
      ],
      "execution_count": null,
      "outputs": [
        {
          "output_type": "stream",
          "text": [
            "(10000,)\n",
            "(64, 5)\n",
            "(57, 5)\n",
            "Epoch 1/10\n",
            "313/313 - 24s - loss: 0.6916 - accuracy: 0.7644\n",
            "Epoch 2/10\n",
            "313/313 - 24s - loss: 0.5624 - accuracy: 0.8103\n",
            "Epoch 3/10\n",
            "313/313 - 24s - loss: 0.4956 - accuracy: 0.8329\n",
            "Epoch 4/10\n",
            "313/313 - 24s - loss: 0.4458 - accuracy: 0.8500\n",
            "Epoch 5/10\n",
            "313/313 - 24s - loss: 0.4186 - accuracy: 0.8622\n",
            "Epoch 6/10\n",
            "313/313 - 24s - loss: 0.3948 - accuracy: 0.8676\n",
            "Epoch 7/10\n",
            "313/313 - 24s - loss: 0.3632 - accuracy: 0.8774\n",
            "Epoch 8/10\n",
            "313/313 - 24s - loss: 0.3477 - accuracy: 0.8839\n",
            "Epoch 9/10\n",
            "313/313 - 24s - loss: 0.3338 - accuracy: 0.8875\n",
            "Epoch 10/10\n",
            "313/313 - 24s - loss: 0.3019 - accuracy: 0.9022\n"
          ],
          "name": "stdout"
        },
        {
          "output_type": "execute_result",
          "data": {
            "text/plain": [
              "<tensorflow.python.keras.callbacks.History at 0x7fb03e54d350>"
            ]
          },
          "metadata": {
            "tags": []
          },
          "execution_count": 48
        }
      ]
    },
    {
      "cell_type": "code",
      "metadata": {
        "id": "rOabCkZRLyNp"
      },
      "source": [
        "model.fit(x=x_train_padded,y=y_train,batch_size = 100,verbose=2,epochs=5)"
      ],
      "execution_count": null,
      "outputs": []
    },
    {
      "cell_type": "code",
      "metadata": {
        "colab": {
          "base_uri": "https://localhost:8080/"
        },
        "id": "Ubkj1FrjbEBz",
        "outputId": "f30ba97e-5aa6-4ad3-9c3f-fef3388c0ea2"
      },
      "source": [
        "model.evaluate(x=np.array(x_test),y=y_test)"
      ],
      "execution_count": null,
      "outputs": [
        {
          "output_type": "stream",
          "text": [
            "313/313 [==============================] - 5s 16ms/step - loss: 0.3447 - accuracy: 0.8911\n"
          ],
          "name": "stdout"
        },
        {
          "output_type": "execute_result",
          "data": {
            "text/plain": [
              "[0.3446541130542755, 0.8910999894142151]"
            ]
          },
          "metadata": {
            "tags": []
          },
          "execution_count": 52
        }
      ]
    },
    {
      "cell_type": "code",
      "metadata": {
        "id": "z3alVlN1p3Ub",
        "colab": {
          "base_uri": "https://localhost:8080/",
          "height": 1000
        },
        "outputId": "a73a05b1-6d54-4a69-f067-7e271a54f2d0"
      },
      "source": [
        "for idx,x in enumerate(init_xs_tests[:20]):\n",
        "  plt.imshow(x)\n",
        "  plt.show()\n",
        "  print(model.predict_classes(np.array(x_test)[:20])[idx])"
      ],
      "execution_count": null,
      "outputs": [
        {
          "output_type": "display_data",
          "data": {
            "image/png": "[encoded data removed]",
            "text/plain": [
              "<Figure size 432x288 with 1 Axes>"
            ]
          },
          "metadata": {
            "tags": [],
            "needs_background": "light"
          }
        },
        {
          "output_type": "stream",
          "text": [
            "7\n"
          ],
          "name": "stdout"
        },
        {
          "output_type": "stream",
          "text": [
            "/usr/local/lib/python3.7/dist-packages/tensorflow/python/keras/engine/sequential.py:450: UserWarning: `model.predict_classes()` is deprecated and will be removed after 2021-01-01. Please use instead:* `np.argmax(model.predict(x), axis=-1)`,   if your model does multi-class classification   (e.g. if it uses a `softmax` last-layer activation).* `(model.predict(x) > 0.5).astype(\"int32\")`,   if your model does binary classification   (e.g. if it uses a `sigmoid` last-layer activation).\n",
            "  warnings.warn('`model.predict_classes()` is deprecated and '\n"
          ],
          "name": "stderr"
        },
        {
          "output_type": "display_data",
          "data": {
            "image/png": "[encoded data removed]",
            "text/plain": [
              "<Figure size 432x288 with 1 Axes>"
            ]
          },
          "metadata": {
            "tags": [],
            "needs_background": "light"
          }
        },
        {
          "output_type": "stream",
          "text": [
            "2\n"
          ],
          "name": "stdout"
        },
        {
          "output_type": "display_data",
          "data": {
            "image/png": "[encoded data removed]",
            "text/plain": [
              "<Figure size 432x288 with 1 Axes>"
            ]
          },
          "metadata": {
            "tags": [],
            "needs_background": "light"
          }
        },
        {
          "output_type": "stream",
          "text": [
            "1\n"
          ],
          "name": "stdout"
        },
        {
          "output_type": "display_data",
          "data": {
            "image/png": "[encoded data removed]",
            "text/plain": [
              "<Figure size 432x288 with 1 Axes>"
            ]
          },
          "metadata": {
            "tags": [],
            "needs_background": "light"
          }
        },
        {
          "output_type": "stream",
          "text": [
            "0\n"
          ],
          "name": "stdout"
        },
        {
          "output_type": "display_data",
          "data": {
            "image/png": "[encoded data removed]",
            "text/plain": [
              "<Figure size 432x288 with 1 Axes>"
            ]
          },
          "metadata": {
            "tags": [],
            "needs_background": "light"
          }
        },
        {
          "output_type": "stream",
          "text": [
            "4\n"
          ],
          "name": "stdout"
        },
        {
          "output_type": "display_data",
          "data": {
            "image/png": "[encoded data removed]",
            "text/plain": [
              "<Figure size 432x288 with 1 Axes>"
            ]
          },
          "metadata": {
            "tags": [],
            "needs_background": "light"
          }
        },
        {
          "output_type": "stream",
          "text": [
            "1\n"
          ],
          "name": "stdout"
        },
        {
          "output_type": "display_data",
          "data": {
            "image/png": "[encoded data removed]",
            "text/plain": [
              "<Figure size 432x288 with 1 Axes>"
            ]
          },
          "metadata": {
            "tags": [],
            "needs_background": "light"
          }
        },
        {
          "output_type": "stream",
          "text": [
            "4\n"
          ],
          "name": "stdout"
        },
        {
          "output_type": "display_data",
          "data": {
            "image/png": "[encoded data removed]",
            "text/plain": [
              "<Figure size 432x288 with 1 Axes>"
            ]
          },
          "metadata": {
            "tags": [],
            "needs_background": "light"
          }
        },
        {
          "output_type": "stream",
          "text": [
            "9\n"
          ],
          "name": "stdout"
        },
        {
          "output_type": "display_data",
          "data": {
            "image/png": "[encoded data removed]",
            "text/plain": [
              "<Figure size 432x288 with 1 Axes>"
            ]
          },
          "metadata": {
            "tags": [],
            "needs_background": "light"
          }
        },
        {
          "output_type": "stream",
          "text": [
            "5\n"
          ],
          "name": "stdout"
        },
        {
          "output_type": "display_data",
          "data": {
            "image/png": "[encoded data removed]",
            "text/plain": [
              "<Figure size 432x288 with 1 Axes>"
            ]
          },
          "metadata": {
            "tags": [],
            "needs_background": "light"
          }
        },
        {
          "output_type": "stream",
          "text": [
            "7\n"
          ],
          "name": "stdout"
        },
        {
          "output_type": "display_data",
          "data": {
            "image/png": "[encoded data removed]",
            "text/plain": [
              "<Figure size 432x288 with 1 Axes>"
            ]
          },
          "metadata": {
            "tags": [],
            "needs_background": "light"
          }
        },
        {
          "output_type": "stream",
          "text": [
            "0\n"
          ],
          "name": "stdout"
        },
        {
          "output_type": "display_data",
          "data": {
            "image/png": "[encoded data removed]",
            "text/plain": [
              "<Figure size 432x288 with 1 Axes>"
            ]
          },
          "metadata": {
            "tags": [],
            "needs_background": "light"
          }
        },
        {
          "output_type": "stream",
          "text": [
            "6\n"
          ],
          "name": "stdout"
        },
        {
          "output_type": "display_data",
          "data": {
            "image/png": "[encoded data removed]",
            "text/plain": [
              "<Figure size 432x288 with 1 Axes>"
            ]
          },
          "metadata": {
            "tags": [],
            "needs_background": "light"
          }
        },
        {
          "output_type": "stream",
          "text": [
            "9\n"
          ],
          "name": "stdout"
        },
        {
          "output_type": "display_data",
          "data": {
            "image/png": "[encoded data removed]",
            "text/plain": [
              "<Figure size 432x288 with 1 Axes>"
            ]
          },
          "metadata": {
            "tags": [],
            "needs_background": "light"
          }
        },
        {
          "output_type": "stream",
          "text": [
            "0\n"
          ],
          "name": "stdout"
        },
        {
          "output_type": "display_data",
          "data": {
            "image/png": "[encoded data removed]",
            "text/plain": [
              "<Figure size 432x288 with 1 Axes>"
            ]
          },
          "metadata": {
            "tags": [],
            "needs_background": "light"
          }
        },
        {
          "output_type": "stream",
          "text": [
            "1\n"
          ],
          "name": "stdout"
        },
        {
          "output_type": "display_data",
          "data": {
            "image/png": "[encoded data removed]",
            "text/plain": [
              "<Figure size 432x288 with 1 Axes>"
            ]
          },
          "metadata": {
            "tags": [],
            "needs_background": "light"
          }
        },
        {
          "output_type": "stream",
          "text": [
            "5\n"
          ],
          "name": "stdout"
        },
        {
          "output_type": "display_data",
          "data": {
            "image/png": "[encoded data removed]",
            "text/plain": [
              "<Figure size 432x288 with 1 Axes>"
            ]
          },
          "metadata": {
            "tags": [],
            "needs_background": "light"
          }
        },
        {
          "output_type": "stream",
          "text": [
            "9\n"
          ],
          "name": "stdout"
        },
        {
          "output_type": "display_data",
          "data": {
            "image/png": "[encoded data removed]",
            "text/plain": [
              "<Figure size 432x288 with 1 Axes>"
            ]
          },
          "metadata": {
            "tags": [],
            "needs_background": "light"
          }
        },
        {
          "output_type": "stream",
          "text": [
            "7\n"
          ],
          "name": "stdout"
        },
        {
          "output_type": "display_data",
          "data": {
            "image/png": "[encoded data removed]",
            "text/plain": [
              "<Figure size 432x288 with 1 Axes>"
            ]
          },
          "metadata": {
            "tags": [],
            "needs_background": "light"
          }
        },
        {
          "output_type": "stream",
          "text": [
            "3\n"
          ],
          "name": "stdout"
        },
        {
          "output_type": "display_data",
          "data": {
            "image/png": "[encoded data removed]",
            "text/plain": [
              "<Figure size 432x288 with 1 Axes>"
            ]
          },
          "metadata": {
            "tags": [],
            "needs_background": "light"
          }
        },
        {
          "output_type": "stream",
          "text": [
            "4\n"
          ],
          "name": "stdout"
        }
      ]
    }
  ]
}